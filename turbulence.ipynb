{
 "cells": [
  {
   "cell_type": "code",
   "execution_count": 1,
   "metadata": {},
   "outputs": [
    {
     "name": "stdout",
     "output_type": "stream",
     "text": [
      "Initializing resources...\n",
      "... packages imported!\n",
      "... resources initialized!\n"
     ]
    }
   ],
   "source": [
    "from resources import *\n",
    "import pandas as pd"
   ]
  },
  {
   "cell_type": "markdown",
   "metadata": {},
   "source": [
    "# Part 1: glider data"
   ]
  },
  {
   "cell_type": "code",
   "execution_count": 2,
   "metadata": {},
   "outputs": [],
   "source": [
    "gliderData = pd.read_csv('turbulence/data/gliderExportThesis.csv')\n",
    "\n",
    "topSalt = gliderData['topSaltConvolved']\n",
    "bottomSalt = gliderData['bottomSaltConvolved']\n",
    "topTemp = gliderData['topTempConvolved']\n",
    "bottomTemp = gliderData['bottomTempConvolved']\n",
    "\n",
    "topSalt = (topSalt - np.min(topSalt)) / (np.max(topSalt) - np.min(topSalt))\n",
    "bottomSalt = (bottomSalt - np.min(bottomSalt)) / (np.max(bottomSalt) - np.min(bottomSalt))\n",
    "topTemp = (topTemp - np.min(topTemp)) / (np.max(topTemp) - np.min(topTemp))\n",
    "bottomTemp = (bottomTemp - np.min(bottomTemp)) / (np.max(bottomTemp) - np.min(bottomTemp))"
   ]
  },
  {
   "cell_type": "code",
   "execution_count": 3,
   "metadata": {},
   "outputs": [],
   "source": [
    "def interp(data, xNew):\n",
    "    xOld = np.linspace(0, 1, len(data))\n",
    "    yOld = data\n",
    "    xNew = np.linspace(0, 1, xNew)\n",
    "    yNew = np.interp(xNew, xOld, yOld)\n",
    "    return yNew\n",
    "\n",
    "interpLen = 2 * 60 * SAMPLE_RATE\n",
    "topSaltInterp = interp(topSalt, interpLen)\n",
    "bottomSaltInterp = interp(bottomSalt, interpLen)\n",
    "topTempInterp = interp(topTemp, interpLen)\n",
    "bottomTempInterp = interp(bottomTemp, interpLen)"
   ]
  },
  {
   "cell_type": "code",
   "execution_count": 4,
   "metadata": {},
   "outputs": [],
   "source": [
    "seconds = 2 * 60"
   ]
  },
  {
   "cell_type": "code",
   "execution_count": null,
   "metadata": {},
   "outputs": [],
   "source": [
    "def vol_oscillator(rate, phase):\n",
    "    oscillator = lfo(rate, seconds, phase)\n",
    "    return oscillator\n",
    "\n",
    "\n",
    "# Bottom drone\n",
    "fundamentalPitch = notename_to_hertz('E-2')\n",
    "sine_low = 2 * sineWave(fundamentalPitch / 2, seconds)\n",
    "sine_fundamental = 2 * sineWave(fundamentalPitch, seconds)\n",
    "\n",
    "sineVol = 0.4 + 0.05 * vol_oscillator(0.1, np.pi/6)\n",
    "sineFifth = sineVol * sineWave(1.5 * fundamentalPitch - 0.4, seconds) + sineVol * sineWave(1.5 * fundamentalPitch + 0.4, seconds)\n",
    "sineFifth = sineFifth * (15 - 5 * bottomSaltInterp)\n",
    "\n",
    "sawtoothVol = 0.4 - 0.05 * vol_oscillator(0.09, np.pi/3)\n",
    "sawtoothFifth = sawtoothVol * sawtoothWave(1.5 * fundamentalPitch - 0.6, seconds) + sawtoothVol * sawtoothWave(1.5 * fundamentalPitch + 0.6, seconds)\n",
    "sawtoothFifth = sawtoothFifth * (1 + 10 * bottomSaltInterp)\n",
    "\n",
    "sineVol = 0.4 + 0.05 * vol_oscillator(0.08, np.pi / 2)\n",
    "sineOctave = sineVol * sineWave(2 * fundamentalPitch - 0.8, seconds) + sineVol * sineWave(2 * fundamentalPitch + 0.8, seconds)\n",
    "sineOctave = sineOctave * (15 - 5 * bottomSaltInterp)\n",
    "\n",
    "sawtoothVol = 0.4 + 0.05 * vol_oscillator(0.07, 2 * np.pi / 3)\n",
    "sawtoothOctave = sawtoothVol * sawtoothWave(2 * fundamentalPitch - 1, seconds) + sawtoothVol * sawtoothWave(2 * fundamentalPitch + 1, seconds)\n",
    "sawtoothOctave = sawtoothOctave * (1 + 10 * bottomSaltInterp)\n",
    "\n",
    "sumL = sine_low + sine_fundamental + 0.6 * sineFifth + 0.4 * sawtoothFifth + 0.1 * sineOctave + 0.9 * sawtoothOctave\n",
    "sumR = sine_low + sine_fundamental + 0.4 * sineFifth + 0.6 * sawtoothFifth + 0.9 * sineOctave + 0.1 * sawtoothOctave\n",
    "\n",
    "sumLEffects = (1 + bottomTempInterp) * sumL\n",
    "sumREffects = (1 + bottomTempInterp) * sumR\n",
    "\n",
    "stereo_sound_bottom = np.column_stack((sumLEffects, sumREffects))\n",
    "\n",
    "#write('turbulence/stereo_drone_bottom.wav', SAMPLE_RATE, stereo_sound_bottom)"
   ]
  },
  {
   "cell_type": "code",
   "execution_count": 7,
   "metadata": {},
   "outputs": [],
   "source": [
    "# Top drone\n",
    "\n",
    "fundamentalPitch = notename_to_hertz('E-4')\n",
    "sine_low = 2 * sineWave(fundamentalPitch / 2, seconds)\n",
    "sine_fundamental = 2 * sineWave(fundamentalPitch, seconds)\n",
    "\n",
    "sineVol = 0.4 + 0.05 * vol_oscillator(0.1, np.pi/6)\n",
    "sineFifth = sineVol * sineWave(1.5 * fundamentalPitch - 0.3, seconds) + sineVol * sineWave(1.5 * fundamentalPitch + 0.3, seconds)\n",
    "sineFifth = sineFifth * (15 - 5 * topSaltInterp)\n",
    "\n",
    "sawtoothVol = 0.4 - 0.05 * vol_oscillator(0.09, np.pi/3)\n",
    "sawtoothFifth = sawtoothVol * sawtoothWave(1.5 * fundamentalPitch - 0.5, seconds) + sawtoothVol * sawtoothWave(1.5 * fundamentalPitch + 0.5, seconds)\n",
    "sawtoothFifth = sawtoothFifth * (1 + 10 * topSaltInterp)\n",
    "\n",
    "sineVol = 0.4 + 0.05 * vol_oscillator(0.08, np.pi / 2)\n",
    "sineOctave = sineVol * sineWave(2 * fundamentalPitch - 0.7, seconds) + sineVol * sineWave(2 * fundamentalPitch + 0.7, seconds)\n",
    "sineOctave = sineOctave * (15 - 5 * topSaltInterp)\n",
    "\n",
    "sawtoothVol = 0.4 + 0.05 * vol_oscillator(0.07, 2 * np.pi / 3)\n",
    "sawtoothOctave = sawtoothVol * sawtoothWave(2 * fundamentalPitch - 0.9, seconds) + sawtoothVol * sawtoothWave(2 * fundamentalPitch + 0.9, seconds)\n",
    "sawtoothOctave = sawtoothOctave * (1 + 10 * topSaltInterp)\n",
    "\n",
    "sumL = sine_low + sine_fundamental + 0.6 * sineFifth + 0.4 * sawtoothFifth + 0.1 * sineOctave + 0.9 * sawtoothOctave\n",
    "sumR = sine_low + sine_fundamental + 0.4 * sineFifth + 0.6 * sawtoothFifth + 0.9 * sineOctave + 0.1 * sawtoothOctave\n",
    "\n",
    "sumLEffects = (1 + topTempInterp) * sumL\n",
    "sumREffects = (1 + topTempInterp) * sumR\n",
    "\n",
    "stereo_sound_top = np.column_stack((sumLEffects, sumREffects))\n",
    "\n",
    "#write('turbulence/stereo_drone_high.wav', SAMPLE_RATE, stereo_sound_top)\n"
   ]
  },
  {
   "cell_type": "code",
   "execution_count": 8,
   "metadata": {},
   "outputs": [],
   "source": [
    "turbulence_pt1 = stereo_sound_top + stereo_sound_bottom\n",
    "#write('turbulence/turbulence_pt1.wav', SAMPLE_RATE, turbulence_pt1)"
   ]
  },
  {
   "cell_type": "markdown",
   "metadata": {},
   "source": [
    "# Part 2: Satellite data"
   ]
  },
  {
   "cell_type": "code",
   "execution_count": 10,
   "metadata": {},
   "outputs": [],
   "source": [
    "eddyData = pd.read_csv('turbulence/data/dfFocusExport.csv')"
   ]
  },
  {
   "cell_type": "code",
   "execution_count": 11,
   "metadata": {},
   "outputs": [],
   "source": [
    "seconds = 2 * 60\n",
    "amp = eddyData['amplitude']\n",
    "speed = eddyData['speed']\n",
    "\n",
    "amp = (amp - np.min(amp)) / (np.max(amp) - np.min(amp))\n",
    "speed = (speed - np.min(speed)) / (np.max(speed) - np.min(speed))\n",
    "\n",
    "ampInterp = interp(amp, 2 * 60 * SAMPLE_RATE)\n",
    "speedInterp = interp(speed, 2 * 60 * SAMPLE_RATE)\n",
    "fundamentalPitch = notename_to_hertz('A-2')"
   ]
  },
  {
   "cell_type": "code",
   "execution_count": null,
   "metadata": {},
   "outputs": [],
   "source": [
    "sine_low = 2 * sineWave(fundamentalPitch / 2, seconds)\n",
    "sine_fundamental = 2 * sineWave(fundamentalPitch, seconds)\n",
    "\n",
    "squareVol = 0.4 + 0.05 * vol_oscillator(0.1, np.pi/6) #np.sin(np.pi * volx / SAMPLE_RATE + np.pi/5)\n",
    "squareFifthDown = squareVol * squareWave(1.5 * fundamentalPitch - 1, seconds)\n",
    "squareFifthUp = squareVol * squareWave(1.5 * fundamentalPitch + 1, seconds)\n",
    "squareFifth = squareFifthDown + squareFifthUp\n",
    "\n",
    "sawtoothVol = 0.4 - 0.05 * vol_oscillator(0.07, np.pi/3) #np.sin(np.pi * volx / SAMPLE_RATE + 2 * np.pi/5)\n",
    "sawtoothFifthDown = sawtoothVol * sawtoothWave(1.5 * fundamentalPitch - 0.9, seconds)\n",
    "sawtoothFifthUp = sawtoothVol * sawtoothWave(1.5 * fundamentalPitch + 0.9, seconds)\n",
    "sawtoothFifth = sawtoothFifthDown + sawtoothFifthUp\n",
    "\n",
    "sineVol = 0.3 - 0.05 *  vol_oscillator(0.06, np.pi/2) #np.sin(np.pi * volx / SAMPLE_RATE + 2 * np.pi/5)\n",
    "sineFifthDown = sineVol * sineWave(1.5 * fundamentalPitch - 0.9, seconds)\n",
    "sineFifthUp = sineVol * sineWave(1.5 * fundamentalPitch + 0.9, seconds)\n",
    "sineFifth = sineFifthDown + sineFifthUp\n",
    "\n",
    "squareVol = 0.4 - 0.05 * vol_oscillator(0.09, np.pi) #np.sin(np.pi * volx / SAMPLE_RATE + 4 * np.pi/5)\n",
    "squareOctaveDown = squareVol * squareWave(2 * fundamentalPitch - 0.8, seconds)\n",
    "squareOctaveUp = squareVol * squareWave(2 * fundamentalPitch + 0.8, seconds)\n",
    "squareOctave = squareOctaveDown + squareOctaveUp\n",
    "\n",
    "sawtoothVol = 0.4 + 0.05 * vol_oscillator(0.05, 2 * np.pi/3) #np.sin(np.pi * volx / SAMPLE_RATE + 3 * np.pi/5)\n",
    "sawtoothOctaveDown = sawtoothVol * sawtoothWave(2 * fundamentalPitch - 0.7, seconds)\n",
    "sawtoothOctaveUp = sawtoothVol * sawtoothWave(2 * fundamentalPitch + 0.7, seconds)\n",
    "sawtoothOctave = sawtoothOctaveDown + sawtoothOctaveUp\n",
    "\n",
    "sineVol = 0.3 - 0.05 * vol_oscillator(0.06, 5 * np.pi/6) #np.sin(np.pi * volx / SAMPLE_RATE + 2 * np.pi/5)\n",
    "sineOctaveDown = sineVol * sineWave(2 * fundamentalPitch - 0.5, seconds)\n",
    "sineOctaveUp = sineVol * sineWave(2 * fundamentalPitch + 0.5, seconds)\n",
    "sineOctave = sineOctaveDown + sineOctaveUp\n",
    "\n",
    "sumL = sine_low + sine_fundamental + 0.6 * squareFifth + 0.4 * sawtoothFifth + 0.7 * sineFifth + 0.1 * squareOctave + 0.9 * sawtoothOctave + 0.3 * sineOctave\n",
    "sumR = sine_low + sine_fundamental + 0.4 * squareFifth + 0.6 * sawtoothFifth + 0.3 * sineFifth + 0.9 * squareOctave + 0.1 * sawtoothOctave + 0.7 * sineOctave\n",
    "\n",
    "\n",
    "vol = 5 * ampInterp\n",
    "sumBoth = vol * (sumL + sumR)\n",
    "turbulence_pt2 = np.column_stack((vol * sumL, vol * sumR))\n",
    "\n",
    "#write('turbulence/turbulence_pt2.wav', SAMPLE_RATE, turbulence_pt2)"
   ]
  },
  {
   "cell_type": "code",
   "execution_count": 14,
   "metadata": {},
   "outputs": [
    {
     "data": {
      "text/plain": [
       "(0.8540132644002296,\n",
       " 0.749821574668825,\n",
       " 0.7772599091336362,\n",
       " 0.5363160826500948,\n",
       " 0.3214180026807318,\n",
       " 0.03663514104075793)"
      ]
     },
     "execution_count": 14,
     "metadata": {},
     "output_type": "execute_result"
    }
   ],
   "source": [
    "vel1 = np.mean(speed[ : int(len(speed) / 6)])\n",
    "vel2 = np.mean(speed[1 * int(len(speed) / 6) : 2 * int(len(speed) / 6)])\n",
    "vel3 = np.mean(speed[2 * int(len(speed) / 6) : 3 * int(len(speed) / 6)])\n",
    "vel4 = np.mean(speed[3 * int(len(speed) / 6) : 4 * int(len(speed) / 6)])\n",
    "vel5 = np.mean(speed[4 * int(len(speed) / 6) : 5 * int(len(speed) / 6)])\n",
    "vel6 = np.mean(speed[5 * int(len(speed) / 6) : ])\n",
    "\n",
    "vel1, vel2, vel3, vel4, vel5, vel6"
   ]
  },
  {
   "cell_type": "code",
   "execution_count": 15,
   "metadata": {},
   "outputs": [],
   "source": [
    "sumBoth = sumL + sumR\n",
    "\n",
    "lfo1 = (lfo(vel1, 17 / vel1) + 1) / 2\n",
    "eddy1_L = sumBoth[ : len(lfo1)] * lfo1\n",
    "eddy1_R = sumBoth[ : len(lfo1)] * (1 - lfo1)\n",
    "\n",
    "lfo2 = (lfo(vel2, 14 / vel2) + 1) / 2\n",
    "eddy2_L = sumBoth[len(lfo1) : len(lfo1) + len(lfo2)] * lfo2\n",
    "eddy2_R = sumBoth[len(lfo1) : len(lfo1) + len(lfo2)] * (1 - lfo2)\n",
    "\n",
    "lfo3 = (lfo(vel3, 15 / vel3) + 1) / 2\n",
    "eddy3_L = sumBoth[len(lfo2) : len(lfo2) + len(lfo3)] * lfo3\n",
    "eddy3_R = sumBoth[len(lfo2) : len(lfo2) + len(lfo3)] * (1 - lfo3)\n",
    "\n",
    "lfo4 = (lfo(vel4, 10 / vel4) + 1) / 2\n",
    "eddy4_L = sumBoth[len(lfo3) : len(lfo3) + len(lfo4)] * lfo4\n",
    "eddy4_R = sumBoth[len(lfo3) : len(lfo3) + len(lfo4)] * (1 - lfo4)\n",
    "\n",
    "lfo5 = (lfo(vel5, 6 / vel5) + 1) / 2\n",
    "eddy5_L = sumBoth[len(lfo4) : len(lfo4) + len(lfo5)] * lfo5\n",
    "eddy5_R = sumBoth[len(lfo4) : len(lfo4) + len(lfo5)] * (1 - lfo5)\n",
    "\n",
    "lfo6 = (lfo(vel6, 20) + 1) / 2\n",
    "eddy6_L = sumBoth[len(lfo5) : len(lfo5) + len(lfo6)] * lfo6\n",
    "eddy6_R = sumBoth[len(lfo5) : len(lfo5) + len(lfo6)] * (1 - lfo6)"
   ]
  },
  {
   "cell_type": "code",
   "execution_count": 16,
   "metadata": {},
   "outputs": [],
   "source": [
    "eddy_L = np.concatenate([eddy1_L, eddy2_L, eddy3_L, eddy4_L, eddy5_L, eddy6_L])\n",
    "eddy_R = np.concatenate([eddy1_R, eddy2_R, eddy3_R, eddy4_R, eddy5_R, eddy6_R])\n"
   ]
  },
  {
   "cell_type": "code",
   "execution_count": 17,
   "metadata": {},
   "outputs": [
    {
     "data": {
      "text/plain": [
       "(5079819, 5292000)"
      ]
     },
     "execution_count": 17,
     "metadata": {},
     "output_type": "execute_result"
    }
   ],
   "source": [
    "len(eddy_L), len(ampInterp)"
   ]
  },
  {
   "cell_type": "code",
   "execution_count": 18,
   "metadata": {},
   "outputs": [],
   "source": [
    "eddy_L = eddy_L * ampInterp[:len(eddy_L)]\n",
    "eddy_R = eddy_R * ampInterp[:len(eddy_R)]"
   ]
  },
  {
   "cell_type": "code",
   "execution_count": 20,
   "metadata": {},
   "outputs": [],
   "source": [
    "stereo_rotation = np.column_stack((eddy_L, eddy_R))\n",
    "#write('turbulence/rotating_eddy.wav', SAMPLE_RATE, stereo_rotation)"
   ]
  },
  {
   "cell_type": "code",
   "execution_count": 21,
   "metadata": {},
   "outputs": [
    {
     "data": {
      "text/plain": [
       "(0.08557478893887381, 0.24509379700968228)"
      ]
     },
     "execution_count": 21,
     "metadata": {},
     "output_type": "execute_result"
    }
   ],
   "source": [
    "np.max(stereo_rotation), np.max(turbulence_pt2)"
   ]
  },
  {
   "cell_type": "code",
   "execution_count": 23,
   "metadata": {},
   "outputs": [],
   "source": [
    "# Final assembly\n",
    "\n",
    "turbulence_final = np.zeros((4 * 60 * SAMPLE_RATE, 2))\n",
    "\n",
    "volMask = np.concatenate([\n",
    "    np.linspace(0, 1, 10 * SAMPLE_RATE),\n",
    "    np.ones(110 * SAMPLE_RATE)\n",
    "])\n",
    "turbulence_final[0 : len(turbulence_pt1)] += np.column_stack((volMask, volMask)) * turbulence_pt1\n",
    "\n",
    "volMask = np.concatenate([\n",
    "    np.ones(110 * SAMPLE_RATE),\n",
    "    np.linspace(1, 0, 10 * SAMPLE_RATE),\n",
    "])\n",
    "turbulence_final[len(turbulence_pt1) : len(turbulence_pt1) + len(turbulence_pt2)] += np.column_stack((volMask, volMask)) * turbulence_pt2\n",
    "\n",
    "volMask = np.concatenate([\n",
    "    np.ones(110 * SAMPLE_RATE),\n",
    "    np.linspace(1, 0, len(stereo_rotation) - 110 * SAMPLE_RATE)\n",
    "])\n",
    "\n",
    "turbulence_final[len(turbulence_pt1) : len(turbulence_pt1) + len(stereo_rotation)] += stereo_rotation * 20 * np.column_stack((volMask, volMask))\n",
    "\n",
    "\n",
    "write('turbulence/turbulence.wav', SAMPLE_RATE, turbulence_final)"
   ]
  }
 ],
 "metadata": {
  "kernelspec": {
   "display_name": "csci1470",
   "language": "python",
   "name": "python3"
  },
  "language_info": {
   "codemirror_mode": {
    "name": "ipython",
    "version": 3
   },
   "file_extension": ".py",
   "mimetype": "text/x-python",
   "name": "python",
   "nbconvert_exporter": "python",
   "pygments_lexer": "ipython3",
   "version": "3.11.9"
  }
 },
 "nbformat": 4,
 "nbformat_minor": 2
}
